{
 "cells": [
  {
   "cell_type": "code",
   "execution_count": 12,
   "metadata": {},
   "outputs": [],
   "source": [
    "from bin.rca_parallel_median_based_clustering import *"
   ]
  },
  {
   "cell_type": "code",
   "execution_count": 13,
   "metadata": {},
   "outputs": [
    {
     "name": "stdout",
     "output_type": "stream",
     "text": [
      "Found best configuration!\n",
      "Thread Creadted:  0\n",
      "Rule3list ['252695055', '267390735', '252695055']\n",
      "Trial number : 0\n",
      "['252695055' '267390735']\n",
      "[0, 0, 0, 0, 0, 0, 0, 0, 0, 0, 0, 0, 0, 0, 0, 0, 0, 0, 0, 0, 0, 0, 0, 0, 0, 0, 0, 0, 0, 0, 0, 0, 0, 0, 0, 0, 0, 0, 0, 0, 0, 0, 0, 0, 0, 0, 0, 0, 0, 0, 0, 0, 0, 0, 0, 0, 0, 0, 0, 0, 0, 0, 0, 0, 0, 0, 0, 0, 0, 0, 0, 0, 0, 1, 0, 0, 0, 0, 0, 0, 0, 0, 0, 0, 0, 0, 0, 0, 0, 0, 0, 0, 0, 0, 0, 0, 0, 0, 0, 0, 0, 0, 0, 0, 0, 0, 0, 0, 0, 0, 0, 0, 0, 0, 0, 0, 0, 0, 0, 0, 0, 0, 0, 0, 0, 0, 0, 0, 0, 0, 0, 0, 0, 0, 0, 0, 0, 0, 0, 0, 0, 0, 0]\n",
      "davies:CA 0.3652940088866744\n",
      "calinski:CA 5.9395452090252965\n",
      "davies:Heirarchical 0.5592736230946753\n",
      "calinski:Heirarchical 129.5710014034114\n",
      "[0 1 0 1 0 1 0 0 0 0 0 0 0 0 1 1 0 0 0 0 0 0 0 0 0 0 1 0 1 0 0 0 0 0 0 0 1\n",
      " 0 0 0 1 0 1 1 0 0 0 0 1 0 0 1 1 0 0 0 0 0 0 0 0 1 1 0 0 1 0 0 1 0 0 0 0 1\n",
      " 1 1 0 1 0 0 1 0 1 0 0 0 1 0 0 0 1 1 0 0 0 1 0 0 1 0 0 0 0 0 0 0 0 0 0 0 0\n",
      " 0 0 0 0 0 0 0 0 0 0 0 0 0 0 0 0 0 0 0 0 0 0 0 0 0 0 0 0 0 0 0 0]\n",
      "davies:Kmeans 0.6719603254263545\n",
      "calinski:Kmeans 149.9731862312531\n",
      "davies:Birch 0.5592736230946753\n",
      "calinski:Birch 129.5710014034114\n",
      "   Index     Rule 1     Rule 2     Rule 3  CA Silhoutte  Heir Silhoutte  \\\n",
      "0      0  252695055  267390735  252695055      0.434091        0.537515   \n",
      "\n",
      "   Kmeans Silhoutte  Birch Silhoutte  \n",
      "0          0.523201         0.537515  \n",
      "Best silhoutte score : 0.4340907460352302\n",
      "+------------------------+------------------------+----------------+----------+----------+\n",
      "|   Final no.of clusters |    Our silhoutte score |   Heirarchical |   Kmeans |    Birch |\n",
      "+========================+========================+================+==========+==========+\n",
      "|                      2 |               0.434091 |       0.537515 | 0.523201 | 0.537515 |\n",
      "+------------------------+------------------------+----------------+----------+----------+\n",
      "---------------------***-----------------******----------------------***--------------------\n",
      "Trial number : 1\n"
     ]
    }
   ],
   "source": [
    "RCA = RCAC('IPL - IPL_11', 11, 2, data_drop_columns=['PLAYER'], compare_with_others = True)\n",
    "RCA.fit()"
   ]
  },
  {
   "cell_type": "code",
   "execution_count": 6,
   "metadata": {},
   "outputs": [
    {
     "name": "stdout",
     "output_type": "stream",
     "text": [
      "Found best configuration!\n",
      "Thread Creadted:  0\n",
      "Rule3list ['252691440', '265482450', '252691440']\n",
      "Trial number : 0\n",
      "['252691440' '265482450']\n",
      "[0, 0, 0, 0, 0, 0, 0, 0, 0, 0, 0, 0, 0, 0, 0, 0, 0, 0, 0, 0, 0, 0, 0, 0, 0, 0, 0, 0, 0, 0, 0, 0, 0, 0, 0, 0, 0, 0, 0, 0, 0, 0, 0, 0, 0, 0, 0, 0, 0, 0, 0, 0, 0, 0, 0, 0, 0, 0, 0, 0, 0, 0, 0, 0, 0, 0, 0, 0, 0, 0, 0, 0, 0, 0, 0, 0, 0, 1, 1, 1, 1, 1, 1, 1, 1, 1, 1, 1, 1, 1, 1, 1, 1, 1, 1, 1, 1, 1, 1, 1, 1, 1, 1, 1, 1, 1, 1, 1, 1, 1, 1, 1, 1, 1, 1, 1, 1, 1, 1, 1, 1, 1, 1, 1, 1, 1, 1, 1, 1, 1, 1, 1, 1, 1, 1, 1, 1, 1, 1, 1, 1, 1, 1, 1, 1, 1, 1, 1, 1, 1]\n",
      "davies:CA 0.5023318524082289\n",
      "calinski:CA 441.4913463476472\n",
      "davies:Heirarchical 0.5015915801787224\n",
      "calinski:Heirarchical 387.65313708734783\n",
      "[0 0 0 0 0 0 0 0 0 0 0 0 0 0 0 0 0 0 0 0 0 0 0 0 0 0 0 0 0 0 0 0 0 0 0 0 0\n",
      " 0 0 0 0 0 0 0 0 0 0 0 0 0 0 0 0 0 0 0 0 0 0 0 0 0 0 0 0 0 0 0 0 0 0 0 0 0\n",
      " 0 1 1 1 1 1 1 1 1 1 1 1 1 1 1 1 1 1 1 1 1 1 1 1 1 1 1 1 1 1 1 1 1 1 1 1 1\n",
      " 1 1 1 1 1 1 1 1 1 1 1 1 1 1 1 1 1 1 1 1 1 1 1 1 1 1 1 1 1 1 1 1 1 1 1 1 1\n",
      " 1 1]\n",
      "davies:Kmeans 0.5021828965730373\n",
      "calinski:Kmeans 442.8538487777483\n",
      "davies:Birch 0.5027875644588826\n",
      "calinski:Birch 363.9408886434036\n",
      "   Index     Rule 1     Rule 2     Rule 3  CA Silhoutte  Heir Silhoutte  \\\n",
      "0      0  252691440  265482450  252691440      0.619962        0.600211   \n",
      "\n",
      "   Kmeans Silhoutte  Birch Silhoutte  \n",
      "0          0.620466         0.590375  \n",
      "Best silhoutte score : 0.619961876748539\n",
      "+------------------------+------------------------+----------------+----------+----------+\n",
      "|   Final no.of clusters |    Our silhoutte score |   Heirarchical |   Kmeans |    Birch |\n",
      "+========================+========================+================+==========+==========+\n",
      "|                      2 |               0.619962 |       0.600211 | 0.620466 | 0.590375 |\n",
      "+------------------------+------------------------+----------------+----------+----------+\n",
      "---------------------***-----------------******----------------------***--------------------\n",
      "Trial number : 1\n"
     ]
    }
   ],
   "source": [
    "RCA = RCAC('Iris_12', 12, 2, data_drop_columns=['Species'], compare_with_others = True)\n",
    "RCA.fit()\n",
    "\n"
   ]
  }
 ],
 "metadata": {
  "kernelspec": {
   "display_name": "Python 3",
   "language": "python",
   "name": "python3"
  },
  "language_info": {
   "codemirror_mode": {
    "name": "ipython",
    "version": 3
   },
   "file_extension": ".py",
   "mimetype": "text/x-python",
   "name": "python",
   "nbconvert_exporter": "python",
   "pygments_lexer": "ipython3",
   "version": "3.10.12"
  }
 },
 "nbformat": 4,
 "nbformat_minor": 2
}
